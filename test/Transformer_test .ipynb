{
 "cells": [
  {
   "cell_type": "code",
   "execution_count": 1,
   "metadata": {},
   "outputs": [
    {
     "name": "stdout",
     "output_type": "stream",
     "text": [
      "Mon Dec 26 07:22:23 2022       \n",
      "+-----------------------------------------------------------------------------+\n",
      "| NVIDIA-SMI 460.27.04    Driver Version: 460.27.04    CUDA Version: 11.2     |\n",
      "|-------------------------------+----------------------+----------------------+\n",
      "| GPU  Name        Persistence-M| Bus-Id        Disp.A | Volatile Uncorr. ECC |\n",
      "| Fan  Temp  Perf  Pwr:Usage/Cap|         Memory-Usage | GPU-Util  Compute M. |\n",
      "|                               |                      |               MIG M. |\n",
      "|===============================+======================+======================|\n",
      "|   0  GeForce RTX 208...  Off  | 00000000:18:00.0 Off |                  N/A |\n",
      "| 22%   30C    P8    20W / 250W |  10542MiB / 11019MiB |      0%      Default |\n",
      "|                               |                      |                  N/A |\n",
      "+-------------------------------+----------------------+----------------------+\n",
      "|   1  GeForce RTX 208...  Off  | 00000000:3B:00.0 Off |                  N/A |\n",
      "| 27%   45C    P8    16W / 250W |   9022MiB / 11019MiB |      0%      Default |\n",
      "|                               |                      |                  N/A |\n",
      "+-------------------------------+----------------------+----------------------+\n",
      "|   2  GeForce RTX 208...  Off  | 00000000:86:00.0 Off |                  N/A |\n",
      "| 23%   40C    P8    13W / 250W |   9736MiB / 11019MiB |      0%      Default |\n",
      "|                               |                      |                  N/A |\n",
      "+-------------------------------+----------------------+----------------------+\n",
      "|   3  GeForce RTX 208...  Off  | 00000000:AF:00.0 Off |                  N/A |\n",
      "| 41%   58C    P8     2W / 250W |   7348MiB / 11019MiB |      0%      Default |\n",
      "|                               |                      |                  N/A |\n",
      "+-------------------------------+----------------------+----------------------+\n",
      "                                                                               \n",
      "+-----------------------------------------------------------------------------+\n",
      "| Processes:                                                                  |\n",
      "|  GPU   GI   CI        PID   Type   Process name                  GPU Memory |\n",
      "|        ID   ID                                                   Usage      |\n",
      "|=============================================================================|\n",
      "|    0   N/A  N/A    666063      C   ...-tensorflow/bin/python3.8    10539MiB |\n",
      "|    1   N/A  N/A   1024818      C   .../env-s2-3.7/bin/python3.7     9019MiB |\n",
      "|    2   N/A  N/A   1006253      C   .../env-s2-3.7/bin/python3.7     9733MiB |\n",
      "|    3   N/A  N/A   1006253      C   .../env-s2-3.7/bin/python3.7     7345MiB |\n",
      "+-----------------------------------------------------------------------------+\n"
     ]
    }
   ],
   "source": [
    "!nvidia-smi"
   ]
  },
  {
   "cell_type": "code",
   "execution_count": 2,
   "metadata": {
    "executionInfo": {
     "elapsed": 375,
     "status": "ok",
     "timestamp": 1671981226458,
     "user": {
      "displayName": "muhammad jurej alhamdi",
      "userId": "16366814462731188369"
     },
     "user_tz": -420
    },
    "id": "dksC60i3zWoi"
   },
   "outputs": [
    {
     "name": "stderr",
     "output_type": "stream",
     "text": [
      "2022-12-26 07:22:28.339385: I tensorflow/core/platform/cpu_feature_guard.cc:193] This TensorFlow binary is optimized with oneAPI Deep Neural Network Library (oneDNN) to use the following CPU instructions in performance-critical operations:  AVX2 AVX512F AVX512_VNNI FMA\n",
      "To enable them in other operations, rebuild TensorFlow with the appropriate compiler flags.\n",
      "2022-12-26 07:22:28.470064: I tensorflow/core/util/port.cc:104] oneDNN custom operations are on. You may see slightly different numerical results due to floating-point round-off errors from different computation orders. To turn them off, set the environment variable `TF_ENABLE_ONEDNN_OPTS=0`.\n",
      "2022-12-26 07:22:29.001338: W tensorflow/compiler/xla/stream_executor/platform/default/dso_loader.cc:64] Could not load dynamic library 'libnvinfer.so.7'; dlerror: libnvinfer.so.7: cannot open shared object file: No such file or directory\n",
      "2022-12-26 07:22:29.001392: W tensorflow/compiler/xla/stream_executor/platform/default/dso_loader.cc:64] Could not load dynamic library 'libnvinfer_plugin.so.7'; dlerror: libnvinfer_plugin.so.7: cannot open shared object file: No such file or directory\n",
      "2022-12-26 07:22:29.001399: W tensorflow/compiler/tf2tensorrt/utils/py_utils.cc:38] TF-TRT Warning: Cannot dlopen some TensorRT libraries. If you would like to use Nvidia GPU with TensorRT, please make sure the missing libraries mentioned above are installed properly.\n"
     ]
    }
   ],
   "source": [
    "from dataset import DatasetProtein\n",
    "from config import Confiq\n",
    "from tools import Tools\n",
    "from torch.utils.data import DataLoader\n",
    "from model_builder import Transformer  \n",
    "import engine\n",
    "import torch\n",
    "import os"
   ]
  },
  {
   "cell_type": "code",
   "execution_count": 3,
   "metadata": {},
   "outputs": [],
   "source": [
    "os.environ[\"CUDA_VISIBLE_DEVICES\"] = \"3\""
   ]
  },
  {
   "cell_type": "code",
   "execution_count": 4,
   "metadata": {
    "colab": {
     "base_uri": "https://localhost:8080/",
     "height": 399
    },
    "executionInfo": {
     "elapsed": 13,
     "status": "error",
     "timestamp": 1671981228276,
     "user": {
      "displayName": "muhammad jurej alhamdi",
      "userId": "16366814462731188369"
     },
     "user_tz": -420
    },
    "id": "17qLWhOgl6pM",
    "outputId": "d128287d-b06a-4a9c-c08b-683567dfa57c"
   },
   "outputs": [
    {
     "name": "stdout",
     "output_type": "stream",
     "text": [
      "Loading dataset train ...\n",
      "Dataset train loaded !\n",
      "Loading dataset test ...\n",
      "Dataset test loaded !\n"
     ]
    }
   ],
   "source": [
    "cfg = Confiq()\n",
    "tool = Tools()\n",
    "common_family = tool.find_common_family()\n",
    "\n",
    "device = \"cuda\" if torch.cuda.is_available() else \"cpu\"\n",
    "\n",
    "train_ds= DatasetProtein(cfg.ROOT_PATH, 'train', cfg.AMINO, common_family=common_family)\n",
    "test_ds= DatasetProtein(cfg.ROOT_PATH, 'test', cfg.AMINO, common_family=common_family)\n",
    "\n",
    "train_loader = DataLoader(train_ds, batch_size=32, shuffle=True)\n",
    "test_loader = DataLoader(test_ds, batch_size=32, shuffle=False)\n"
   ]
  },
  {
   "cell_type": "code",
   "execution_count": 5,
   "metadata": {
    "colab": {
     "referenced_widgets": [
      "1d1cfdc93303424ab42b04e9a0481aff"
     ]
    },
    "id": "ByYtcPGql6pO",
    "outputId": "0689b36d-5cda-4959-b93c-a22afc3c47ed"
   },
   "outputs": [
    {
     "data": {
      "application/vnd.jupyter.widget-view+json": {
       "model_id": "e532dd296a2447b48830aaa70d2d923e",
       "version_major": 2,
       "version_minor": 0
      },
      "text/plain": [
       "  0%|          | 0/100 [00:00<?, ?it/s]"
      ]
     },
     "metadata": {},
     "output_type": "display_data"
    },
    {
     "name": "stdout",
     "output_type": "stream",
     "text": [
      "Epoch: 1 | train_loss: 3.9349 | train_acc: 0.0506 | test_loss: 3.4439 | test_acc: 0.0796\n",
      "Epoch: 2 | train_loss: 3.1376 | train_acc: 0.1436 | test_loss: 2.7154 | test_acc: 0.2109\n",
      "Epoch: 3 | train_loss: 2.4597 | train_acc: 0.2810 | test_loss: 2.2674 | test_acc: 0.3469\n",
      "Epoch: 4 | train_loss: 2.0148 | train_acc: 0.4145 | test_loss: 1.8843 | test_acc: 0.4383\n",
      "Epoch: 5 | train_loss: 1.6914 | train_acc: 0.5009 | test_loss: 1.6346 | test_acc: 0.5145\n",
      "Epoch: 6 | train_loss: 1.4761 | train_acc: 0.5694 | test_loss: 1.3916 | test_acc: 0.6011\n",
      "Epoch: 7 | train_loss: 1.2414 | train_acc: 0.6451 | test_loss: 1.2124 | test_acc: 0.6547\n",
      "Epoch: 8 | train_loss: 1.0334 | train_acc: 0.7053 | test_loss: 1.0086 | test_acc: 0.7115\n",
      "Epoch: 9 | train_loss: 0.8754 | train_acc: 0.7507 | test_loss: 0.8678 | test_acc: 0.7487\n",
      "Epoch: 10 | train_loss: 0.7462 | train_acc: 0.7883 | test_loss: 0.7671 | test_acc: 0.7814\n",
      "Epoch: 11 | train_loss: 0.6428 | train_acc: 0.8181 | test_loss: 0.6433 | test_acc: 0.8160\n",
      "Epoch: 12 | train_loss: 0.5553 | train_acc: 0.8436 | test_loss: 0.5614 | test_acc: 0.8399\n",
      "Epoch: 13 | train_loss: 0.4759 | train_acc: 0.8680 | test_loss: 0.5106 | test_acc: 0.8564\n",
      "Epoch: 14 | train_loss: 0.4060 | train_acc: 0.8876 | test_loss: 0.4064 | test_acc: 0.8884\n",
      "Epoch: 15 | train_loss: 0.3434 | train_acc: 0.9061 | test_loss: 0.3383 | test_acc: 0.9078\n",
      "Epoch: 16 | train_loss: 0.2934 | train_acc: 0.9195 | test_loss: 0.3136 | test_acc: 0.9106\n",
      "Epoch: 17 | train_loss: 0.2502 | train_acc: 0.9317 | test_loss: 0.2709 | test_acc: 0.9265\n",
      "Epoch: 18 | train_loss: 0.2149 | train_acc: 0.9412 | test_loss: 0.2434 | test_acc: 0.9334\n",
      "Epoch: 19 | train_loss: 0.1895 | train_acc: 0.9477 | test_loss: 0.1882 | test_acc: 0.9485\n",
      "Epoch: 20 | train_loss: 0.1678 | train_acc: 0.9537 | test_loss: 0.1874 | test_acc: 0.9468\n",
      "Epoch: 21 | train_loss: 0.1482 | train_acc: 0.9587 | test_loss: 0.1704 | test_acc: 0.9541\n",
      "Epoch: 22 | train_loss: 0.1359 | train_acc: 0.9623 | test_loss: 0.1566 | test_acc: 0.9560\n",
      "Epoch: 23 | train_loss: 0.1228 | train_acc: 0.9653 | test_loss: 0.1584 | test_acc: 0.9555\n",
      "Epoch: 24 | train_loss: 0.1110 | train_acc: 0.9692 | test_loss: 0.1411 | test_acc: 0.9609\n",
      "Epoch: 25 | train_loss: 0.1029 | train_acc: 0.9713 | test_loss: 0.1367 | test_acc: 0.9625\n",
      "Epoch: 26 | train_loss: 0.0932 | train_acc: 0.9740 | test_loss: 0.1137 | test_acc: 0.9708\n",
      "Epoch: 27 | train_loss: 0.0868 | train_acc: 0.9752 | test_loss: 0.1107 | test_acc: 0.9685\n",
      "Epoch: 28 | train_loss: 0.0801 | train_acc: 0.9775 | test_loss: 0.1075 | test_acc: 0.9699\n",
      "Epoch: 29 | train_loss: 0.0746 | train_acc: 0.9790 | test_loss: 0.1280 | test_acc: 0.9632\n",
      "Epoch: 30 | train_loss: 0.0699 | train_acc: 0.9799 | test_loss: 0.0917 | test_acc: 0.9761\n",
      "Epoch: 31 | train_loss: 0.0647 | train_acc: 0.9816 | test_loss: 0.0861 | test_acc: 0.9758\n",
      "Epoch: 32 | train_loss: 0.0608 | train_acc: 0.9824 | test_loss: 0.0833 | test_acc: 0.9769\n",
      "Epoch: 33 | train_loss: 0.0561 | train_acc: 0.9845 | test_loss: 0.0866 | test_acc: 0.9767\n",
      "Epoch: 34 | train_loss: 0.0529 | train_acc: 0.9851 | test_loss: 0.0869 | test_acc: 0.9759\n",
      "Epoch: 35 | train_loss: 0.0497 | train_acc: 0.9859 | test_loss: 0.0907 | test_acc: 0.9747\n",
      "Epoch: 36 | train_loss: 0.0474 | train_acc: 0.9868 | test_loss: 0.0799 | test_acc: 0.9778\n",
      "Epoch: 37 | train_loss: 0.0441 | train_acc: 0.9875 | test_loss: 0.0909 | test_acc: 0.9749\n",
      "Epoch: 38 | train_loss: 0.0423 | train_acc: 0.9876 | test_loss: 0.0805 | test_acc: 0.9781\n",
      "Epoch: 39 | train_loss: 0.0393 | train_acc: 0.9888 | test_loss: 0.0834 | test_acc: 0.9788\n",
      "Epoch: 40 | train_loss: 0.0374 | train_acc: 0.9891 | test_loss: 0.0774 | test_acc: 0.9784\n",
      "Epoch: 41 | train_loss: 0.0365 | train_acc: 0.9894 | test_loss: 0.0775 | test_acc: 0.9791\n",
      "Epoch: 42 | train_loss: 0.0339 | train_acc: 0.9901 | test_loss: 0.0623 | test_acc: 0.9829\n",
      "Epoch: 43 | train_loss: 0.0328 | train_acc: 0.9907 | test_loss: 0.0679 | test_acc: 0.9815\n",
      "Epoch: 44 | train_loss: 0.0303 | train_acc: 0.9911 | test_loss: 0.0602 | test_acc: 0.9834\n",
      "Epoch: 45 | train_loss: 0.0299 | train_acc: 0.9913 | test_loss: 0.0622 | test_acc: 0.9829\n",
      "Epoch: 46 | train_loss: 0.0272 | train_acc: 0.9920 | test_loss: 0.0680 | test_acc: 0.9818\n",
      "Epoch: 47 | train_loss: 0.0262 | train_acc: 0.9923 | test_loss: 0.0671 | test_acc: 0.9821\n",
      "Epoch: 48 | train_loss: 0.0259 | train_acc: 0.9924 | test_loss: 0.0728 | test_acc: 0.9792\n",
      "Epoch: 49 | train_loss: 0.0249 | train_acc: 0.9926 | test_loss: 0.0771 | test_acc: 0.9791\n",
      "Epoch: 50 | train_loss: 0.0235 | train_acc: 0.9930 | test_loss: 0.0544 | test_acc: 0.9856\n",
      "Epoch: 51 | train_loss: 0.0227 | train_acc: 0.9934 | test_loss: 0.0542 | test_acc: 0.9855\n",
      "Epoch: 52 | train_loss: 0.0220 | train_acc: 0.9934 | test_loss: 0.0608 | test_acc: 0.9841\n",
      "Epoch: 53 | train_loss: 0.0207 | train_acc: 0.9939 | test_loss: 0.0612 | test_acc: 0.9833\n",
      "Epoch: 54 | train_loss: 0.0205 | train_acc: 0.9937 | test_loss: 0.0543 | test_acc: 0.9845\n",
      "Epoch: 55 | train_loss: 0.0190 | train_acc: 0.9944 | test_loss: 0.0640 | test_acc: 0.9837\n",
      "Epoch: 56 | train_loss: 0.0184 | train_acc: 0.9943 | test_loss: 0.0609 | test_acc: 0.9837\n",
      "Epoch: 57 | train_loss: 0.0183 | train_acc: 0.9945 | test_loss: 0.0516 | test_acc: 0.9871\n",
      "Epoch: 58 | train_loss: 0.0164 | train_acc: 0.9951 | test_loss: 0.0495 | test_acc: 0.9873\n",
      "Epoch: 59 | train_loss: 0.0165 | train_acc: 0.9949 | test_loss: 0.0504 | test_acc: 0.9869\n",
      "Epoch: 60 | train_loss: 0.0158 | train_acc: 0.9954 | test_loss: 0.0470 | test_acc: 0.9884\n",
      "Epoch: 61 | train_loss: 0.0154 | train_acc: 0.9953 | test_loss: 0.0566 | test_acc: 0.9854\n",
      "Epoch: 62 | train_loss: 0.0155 | train_acc: 0.9951 | test_loss: 0.0449 | test_acc: 0.9884\n",
      "Epoch: 63 | train_loss: 0.0142 | train_acc: 0.9956 | test_loss: 0.0521 | test_acc: 0.9860\n",
      "Epoch: 64 | train_loss: 0.0140 | train_acc: 0.9959 | test_loss: 0.0441 | test_acc: 0.9890\n",
      "Epoch: 65 | train_loss: 0.0129 | train_acc: 0.9961 | test_loss: 0.0514 | test_acc: 0.9875\n",
      "Epoch: 66 | train_loss: 0.0135 | train_acc: 0.9958 | test_loss: 0.0622 | test_acc: 0.9837\n",
      "Epoch: 67 | train_loss: 0.0135 | train_acc: 0.9957 | test_loss: 0.0510 | test_acc: 0.9869\n",
      "Epoch: 68 | train_loss: 0.0126 | train_acc: 0.9960 | test_loss: 0.0520 | test_acc: 0.9888\n",
      "Epoch: 69 | train_loss: 0.0129 | train_acc: 0.9959 | test_loss: 0.0529 | test_acc: 0.9860\n",
      "Epoch: 70 | train_loss: 0.0121 | train_acc: 0.9963 | test_loss: 0.0520 | test_acc: 0.9882\n",
      "Epoch: 71 | train_loss: 0.0119 | train_acc: 0.9963 | test_loss: 0.0623 | test_acc: 0.9849\n",
      "Epoch: 72 | train_loss: 0.0116 | train_acc: 0.9964 | test_loss: 0.0469 | test_acc: 0.9886\n",
      "Epoch: 73 | train_loss: 0.0118 | train_acc: 0.9963 | test_loss: 0.0447 | test_acc: 0.9889\n",
      "Epoch: 74 | train_loss: 0.0111 | train_acc: 0.9965 | test_loss: 0.0420 | test_acc: 0.9895\n",
      "Epoch: 75 | train_loss: 0.0114 | train_acc: 0.9965 | test_loss: 0.0432 | test_acc: 0.9898\n",
      "Epoch: 76 | train_loss: 0.0099 | train_acc: 0.9969 | test_loss: 0.0484 | test_acc: 0.9875\n",
      "Epoch: 77 | train_loss: 0.0112 | train_acc: 0.9965 | test_loss: 0.0472 | test_acc: 0.9873\n",
      "Epoch: 78 | train_loss: 0.0098 | train_acc: 0.9970 | test_loss: 0.0583 | test_acc: 0.9871\n",
      "Epoch: 79 | train_loss: 0.0098 | train_acc: 0.9969 | test_loss: 0.0499 | test_acc: 0.9884\n",
      "Epoch: 80 | train_loss: 0.0090 | train_acc: 0.9972 | test_loss: 0.0432 | test_acc: 0.9894\n",
      "Epoch: 81 | train_loss: 0.0093 | train_acc: 0.9972 | test_loss: 0.0597 | test_acc: 0.9863\n",
      "Epoch: 82 | train_loss: 0.0097 | train_acc: 0.9970 | test_loss: 0.0464 | test_acc: 0.9896\n",
      "Epoch: 83 | train_loss: 0.0094 | train_acc: 0.9969 | test_loss: 0.0536 | test_acc: 0.9886\n",
      "Epoch: 84 | train_loss: 0.0093 | train_acc: 0.9972 | test_loss: 0.0514 | test_acc: 0.9886\n",
      "Epoch: 85 | train_loss: 0.0088 | train_acc: 0.9974 | test_loss: 0.0584 | test_acc: 0.9874\n",
      "Epoch: 86 | train_loss: 0.0094 | train_acc: 0.9970 | test_loss: 0.0525 | test_acc: 0.9880\n",
      "Epoch: 87 | train_loss: 0.0092 | train_acc: 0.9973 | test_loss: 0.0615 | test_acc: 0.9884\n",
      "Epoch: 88 | train_loss: 0.0055 | train_acc: 0.9985 | test_loss: 0.0509 | test_acc: 0.9910\n",
      "Epoch: 89 | train_loss: 0.0083 | train_acc: 0.9973 | test_loss: 0.0552 | test_acc: 0.9881\n",
      "Epoch: 90 | train_loss: 0.0083 | train_acc: 0.9974 | test_loss: 0.0464 | test_acc: 0.9896\n",
      "Epoch: 91 | train_loss: 0.0080 | train_acc: 0.9975 | test_loss: 0.0466 | test_acc: 0.9901\n",
      "Epoch: 92 | train_loss: 0.0088 | train_acc: 0.9973 | test_loss: 0.0562 | test_acc: 0.9874\n",
      "Epoch: 93 | train_loss: 0.0078 | train_acc: 0.9976 | test_loss: 0.0461 | test_acc: 0.9899\n",
      "Epoch: 94 | train_loss: 0.0075 | train_acc: 0.9977 | test_loss: 0.0457 | test_acc: 0.9909\n",
      "Epoch: 95 | train_loss: 0.0084 | train_acc: 0.9974 | test_loss: 0.0487 | test_acc: 0.9887\n",
      "Epoch: 96 | train_loss: 0.0074 | train_acc: 0.9976 | test_loss: 0.0508 | test_acc: 0.9875\n",
      "Epoch: 97 | train_loss: 0.0080 | train_acc: 0.9976 | test_loss: 0.0450 | test_acc: 0.9901\n",
      "Epoch: 98 | train_loss: 0.0065 | train_acc: 0.9980 | test_loss: 0.0531 | test_acc: 0.9867\n",
      "Epoch: 99 | train_loss: 0.0081 | train_acc: 0.9974 | test_loss: 0.0434 | test_acc: 0.9895\n",
      "Epoch: 100 | train_loss: 0.0072 | train_acc: 0.9978 | test_loss: 0.0465 | test_acc: 0.9897\n"
     ]
    }
   ],
   "source": [
    "model = Transformer()\n",
    "model.to(\"cuda\")\n",
    "\n",
    "optimizer = torch.optim.Adam(model.parameters(), lr=0.0001)\n",
    "loss_fn = torch.nn.CrossEntropyLoss()\n",
    "\n",
    "result = engine.train(\n",
    "    model=model,\n",
    "    train_dataloader=train_loader,\n",
    "    test_dataloader=test_loader,\n",
    "    optimizer=optimizer,\n",
    "    loss_fn=loss_fn,\n",
    "    epochs=100,\n",
    "    device=\"cuda\"\n",
    ")"
   ]
  },
  {
   "cell_type": "code",
   "execution_count": 6,
   "metadata": {
    "id": "nLAu9p1Dl6pR"
   },
   "outputs": [],
   "source": [
    "import matplotlib.pyplot as plt\n",
    "\n",
    "def plot_history(result):\n",
    "    acc = result['train_acc']\n",
    "    val_acc = result['test_acc']\n",
    "    loss = result['train_loss']\n",
    "    val_loss = result['test_loss']\n",
    "    x = range(1, len(acc) + 1)\n",
    "\n",
    "    plt.figure(figsize=(12, 5))\n",
    "    plt.subplot(1, 2, 1)\n",
    "    plt.plot(x, acc, 'b', label='Training acc')\n",
    "    plt.plot(x, val_acc, 'r', label='Validation acc')\n",
    "    plt.title('Training and validation accuracy')\n",
    "    plt.legend()\n",
    "\n",
    "    plt.subplot(1, 2, 2)\n",
    "    plt.plot(x, loss, 'b', label='Training loss')\n",
    "    plt.plot(x, val_loss, 'r', label='Validation loss')\n",
    "    plt.title('Training and validation loss')\n",
    "    plt.legend()"
   ]
  },
  {
   "cell_type": "code",
   "execution_count": 7,
   "metadata": {
    "id": "wB1b5dL7l6pT",
    "outputId": "d8c30e3e-ac96-4c50-f980-f7639adcc8a3"
   },
   "outputs": [
    {
     "data": {
      "image/png": "[encoded data removed]",
      "text/plain": [
       "<Figure size 1200x500 with 2 Axes>"
      ]
     },
     "metadata": {},
     "output_type": "display_data"
    }
   ],
   "source": [
    "plot_history(result)"
   ]
  },
  {
   "cell_type": "code",
   "execution_count": 13,
   "metadata": {
    "id": "PSu7hZBOl6pX"
   },
   "outputs": [],
   "source": [
    "torch.save(obj=model.state_dict(), f='/experiment/chaidir/aulia-s3/Protein/model/protein_transformer_100.pth')"
   ]
  },
  {
   "cell_type": "code",
   "execution_count": null,
   "metadata": {},
   "outputs": [],
   "source": []
  }
 ],
 "metadata": {
  "accelerator": "GPU",
  "colab": {
   "provenance": []
  },
  "gpuClass": "standard",
  "kernelspec": {
   "display_name": "Python 3 (ipykernel)",
   "language": "python",
   "name": "python3"
  },
  "language_info": {
   "codemirror_mode": {
    "name": "ipython",
    "version": 3
   },
   "file_extension": ".py",
   "mimetype": "text/x-python",
   "name": "python",
   "nbconvert_exporter": "python",
   "pygments_lexer": "ipython3",
   "version": "3.7.12"
  },
  "vscode": {
   "interpreter": {
    "hash": "ff42a20364efbd4f19385b9f3ba233f2c4aea584edae2e6e88a75bc3dc588f0e"
   }
  }
 },
 "nbformat": 4,
 "nbformat_minor": 1
}
